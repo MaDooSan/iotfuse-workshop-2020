{
  "nbformat": 4,
  "nbformat_minor": 0,
  "metadata": {
    "colab": {
      "name": "workbook_master.ipynb",
      "provenance": [],
      "collapsed_sections": []
    },
    "kernelspec": {
      "name": "python3",
      "display_name": "Python 3"
    },
    "accelerator": "GPU"
  },
  "cells": [
    {
      "cell_type": "markdown",
      "metadata": {
        "id": "GfS7j_wVdrMz",
        "colab_type": "text"
      },
      "source": [
        "## **Step 1: Lets set up a connection to the Google Drive folder so we can load our image data**"
      ]
    },
    {
      "cell_type": "code",
      "metadata": {
        "id": "eu_d7iVy1839",
        "colab_type": "code",
        "outputId": "d23ca8b4-3121-4a91-c7e3-dae644f14612",
        "colab": {
          "base_uri": "https://localhost:8080/",
          "height": 34
        }
      },
      "source": [
        "from google.colab import drive\n",
        "drive.mount('/content/drive/')"
      ],
      "execution_count": 12,
      "outputs": [
        {
          "output_type": "stream",
          "text": [
            "Drive already mounted at /content/drive/; to attempt to forcibly remount, call drive.mount(\"/content/drive/\", force_remount=True).\n"
          ],
          "name": "stdout"
        }
      ]
    },
    {
      "cell_type": "markdown",
      "metadata": {
        "id": "hP_td_19d8nL",
        "colab_type": "text"
      },
      "source": [
        "## **Step 2: Import libraries**"
      ]
    },
    {
      "cell_type": "code",
      "metadata": {
        "id": "4QTOaHkr7hRb",
        "colab_type": "code",
        "colab": {}
      },
      "source": [
        "# USAGE\n",
        "# python train.py --dataset dataset\n",
        "# import the necessary packages\n",
        "from tensorflow.keras.preprocessing.image import ImageDataGenerator\n",
        "from tensorflow.keras.applications import VGG16\n",
        "from tensorflow.keras.layers import AveragePooling2D\n",
        "from tensorflow.keras.layers import Dropout\n",
        "from tensorflow.keras.layers import Flatten\n",
        "from tensorflow.keras.layers import Dense\n",
        "from tensorflow.keras.layers import Input\n",
        "from tensorflow.keras.models import Model\n",
        "from tensorflow.keras.optimizers import Adam\n",
        "from tensorflow.keras.utils import to_categorical\n",
        "from sklearn.preprocessing import LabelBinarizer\n",
        "from sklearn.model_selection import train_test_split\n",
        "from sklearn.metrics import classification_report\n",
        "from sklearn.metrics import confusion_matrix\n",
        "from imutils import paths\n",
        "import matplotlib.pyplot as plt\n",
        "import numpy as np\n",
        "import argparse\n",
        "import cv2\n",
        "import os\n",
        "import requests\n",
        "import json"
      ],
      "execution_count": 0,
      "outputs": []
    },
    {
      "cell_type": "markdown",
      "metadata": {
        "id": "oHjq2W-neFLb",
        "colab_type": "text"
      },
      "source": [
        "## **Step 3: Set up some parameters**\n",
        "\n",
        "- **dataset**: the location of our image data\n",
        "- **plot**: path to your training curve plot goes\n",
        "- **model**: path to your model (make sure to give it a unique name)"
      ]
    },
    {
      "cell_type": "code",
      "metadata": {
        "id": "NT688KdC8QRs",
        "colab_type": "code",
        "colab": {}
      },
      "source": [
        "DATASET_DIR = \"/content/drive/My Drive/iotfuse2020/workshop/dataset/\"\n",
        "PLOT_OUTPUT = \"/content/drive/My Drive/iotfuse2020/workshop/admin/plot.png\"\n",
        "MODEL_OUTPUT = \"/content/drive/My Drive/iotfuse2020/workshop/admin/mymodel.model\"\n",
        "INITIAL_LEARNING_RATE = 1e-3\n",
        "EPOCHS = 25\n",
        "BATCH_SIZE = 8"
      ],
      "execution_count": 0,
      "outputs": []
    },
    {
      "cell_type": "markdown",
      "metadata": {
        "id": "04Ed1VOkfQsw",
        "colab_type": "text"
      },
      "source": [
        "## **Step 4: Load images and initialize training dataset**\n",
        "\n",
        "1. For each image, swap color channels and resize to 224 x 224 grid (VGG input dimensions)\n",
        "2. Normalize from 0->255 to 0->1 (helps with training)\n",
        "3. Perform one-hot encoding\n",
        "4. Do a train-test split of 80% - 20%\n",
        "5. Augment the data"
      ]
    },
    {
      "cell_type": "code",
      "metadata": {
        "id": "TRt91G-k2uW7",
        "colab_type": "code",
        "outputId": "a31b942c-f9f9-48f7-fb4d-abae20a142aa",
        "colab": {
          "base_uri": "https://localhost:8080/",
          "height": 71
        }
      },
      "source": [
        "# grab the list of images in our dataset directory, then initialize\n",
        "# the list of data (i.e., images) and class images\n",
        "print(\"[INFO] loading images...\")\n",
        "imagePaths = list(paths.list_images(DATASET_DIR))\n",
        "print(imagePaths)\n",
        "data = []\n",
        "labels = []\n",
        "\n",
        "# loop over the image paths\n",
        "for imagePath in imagePaths:\n",
        "\t# extract the class label from the filename\n",
        "\tlabel = imagePath.split(os.path.sep)[-2]\n",
        "\n",
        "\t# load the image, swap color channels, and resize it to be a fixed\n",
        "\t# 224x224 pixels while ignoring aspect ratio\n",
        "\timage = cv2.imread(imagePath)\n",
        "\timage = cv2.cvtColor(image, cv2.COLOR_BGR2RGB)\n",
        "\timage = cv2.resize(image, (224, 224))\n",
        "\n",
        "\t# update the data and labels lists, respectively\n",
        "\tdata.append(image)\n",
        "\tlabels.append(label)\n",
        "\n",
        "# convert the data and labels to NumPy arrays while scaling the pixel\n",
        "# intensities to the range [0, 255]\n",
        "data = np.array(data) / 255.0\n",
        "labels = np.array(labels)\n",
        "\n",
        "# perform one-hot encoding on the labels\n",
        "lb = LabelBinarizer()\n",
        "labels = lb.fit_transform(labels)\n",
        "labels = to_categorical(labels)\n",
        "\n",
        "# partition the data into training and testing splits using 80% of\n",
        "# the data for training and the remaining 20% for testing\n",
        "(trainX, testX, trainY, testY) = train_test_split(data, labels, test_size=0.20, stratify=labels, random_state=42)\n",
        "\n",
        "# initialize the training data augmentation object\n",
        "trainAug = ImageDataGenerator(rotation_range=15,fill_mode=\"nearest\")"
      ],
      "execution_count": 15,
      "outputs": [
        {
          "output_type": "stream",
          "text": [
            "[INFO] loading images...\n",
            "['/content/drive/My Drive/iotfuse2020/workshop/dataset/normal/person651_bacteria_2543.jpeg', '/content/drive/My Drive/iotfuse2020/workshop/dataset/normal/person939_bacteria_2864.jpeg', '/content/drive/My Drive/iotfuse2020/workshop/dataset/normal/IM-0033-0001-0001.jpeg', '/content/drive/My Drive/iotfuse2020/workshop/dataset/normal/person1558_bacteria_4066.jpeg', '/content/drive/My Drive/iotfuse2020/workshop/dataset/normal/NORMAL2-IM-1179-0001.jpeg', '/content/drive/My Drive/iotfuse2020/workshop/dataset/normal/person925_virus_1582.jpeg', '/content/drive/My Drive/iotfuse2020/workshop/dataset/normal/IM-0466-0001.jpeg', '/content/drive/My Drive/iotfuse2020/workshop/dataset/normal/person1_bacteria_2.jpeg', '/content/drive/My Drive/iotfuse2020/workshop/dataset/normal/person525_bacteria_2216.jpeg', '/content/drive/My Drive/iotfuse2020/workshop/dataset/normal/NORMAL2-IM-0869-0001.jpeg', '/content/drive/My Drive/iotfuse2020/workshop/dataset/normal/person1935_bacteria_4849.jpeg', '/content/drive/My Drive/iotfuse2020/workshop/dataset/normal/NORMAL2-IM-0315-0001.jpeg', '/content/drive/My Drive/iotfuse2020/workshop/dataset/normal/person259_bacteria_1220.jpeg', '/content/drive/My Drive/iotfuse2020/workshop/dataset/normal/IM-0240-0001.jpeg', '/content/drive/My Drive/iotfuse2020/workshop/dataset/normal/person438_bacteria_1893.jpeg', '/content/drive/My Drive/iotfuse2020/workshop/dataset/normal/person934_virus_1595.jpeg', '/content/drive/My Drive/iotfuse2020/workshop/dataset/normal/person1102_bacteria_3043.jpeg', '/content/drive/My Drive/iotfuse2020/workshop/dataset/normal/person989_virus_1667.jpeg', '/content/drive/My Drive/iotfuse2020/workshop/dataset/normal/person1599_virus_2776.jpeg', '/content/drive/My Drive/iotfuse2020/workshop/dataset/normal/NORMAL2-IM-0696-0001.jpeg', '/content/drive/My Drive/iotfuse2020/workshop/dataset/normal/person339_bacteria_1574.jpeg', '/content/drive/My Drive/iotfuse2020/workshop/dataset/normal/person1830_bacteria_4693.jpeg', '/content/drive/My Drive/iotfuse2020/workshop/dataset/normal/person612_bacteria_2478.jpeg', '/content/drive/My Drive/iotfuse2020/workshop/dataset/normal/person1290_virus_2215.jpeg', '/content/drive/My Drive/iotfuse2020/workshop/dataset/normal/person378_virus_761.jpeg', '/content/drive/My Drive/iotfuse2020/workshop/dataset/covid/auntminnie-c-2020_01_28_23_51_6665_2020_01_28_Vietnam_coronavirus.jpeg', '/content/drive/My Drive/iotfuse2020/workshop/dataset/covid/auntminnie-a-2020_01_28_23_51_6665_2020_01_28_Vietnam_coronavirus.jpeg', '/content/drive/My Drive/iotfuse2020/workshop/dataset/covid/nejmoa2001191_f1-PA.jpeg', '/content/drive/My Drive/iotfuse2020/workshop/dataset/covid/radiol.2020200490.fig3.jpeg', '/content/drive/My Drive/iotfuse2020/workshop/dataset/covid/ryct.2020200034.fig5-day4.jpeg', '/content/drive/My Drive/iotfuse2020/workshop/dataset/covid/nejmc2001573_f1a.jpeg', '/content/drive/My Drive/iotfuse2020/workshop/dataset/covid/lancet-case2b.jpg', '/content/drive/My Drive/iotfuse2020/workshop/dataset/covid/1-s2.0-S0929664620300449-gr2_lrg-c.jpg', '/content/drive/My Drive/iotfuse2020/workshop/dataset/covid/auntminnie-d-2020_01_28_23_51_6665_2020_01_28_Vietnam_coronavirus.jpeg', '/content/drive/My Drive/iotfuse2020/workshop/dataset/covid/nejmoa2001191_f4.jpeg', '/content/drive/My Drive/iotfuse2020/workshop/dataset/covid/ryct.2020200034.fig2.jpeg', '/content/drive/My Drive/iotfuse2020/workshop/dataset/covid/1-s2.0-S0929664620300449-gr2_lrg-d.jpg', '/content/drive/My Drive/iotfuse2020/workshop/dataset/covid/lancet-case2a.jpg', '/content/drive/My Drive/iotfuse2020/workshop/dataset/covid/auntminnie-b-2020_01_28_23_51_6665_2020_01_28_Vietnam_coronavirus.jpeg', '/content/drive/My Drive/iotfuse2020/workshop/dataset/covid/ryct.2020200034.fig5-day0.jpeg', '/content/drive/My Drive/iotfuse2020/workshop/dataset/covid/1-s2.0-S0929664620300449-gr2_lrg-a.jpg', '/content/drive/My Drive/iotfuse2020/workshop/dataset/covid/1-s2.0-S0929664620300449-gr2_lrg-b.jpg', '/content/drive/My Drive/iotfuse2020/workshop/dataset/covid/radiopedia-covid-19-pneumonia-2.jpg', '/content/drive/My Drive/iotfuse2020/workshop/dataset/covid/nCoV-radiol.2020200269.fig1-day7.jpeg', '/content/drive/My Drive/iotfuse2020/workshop/dataset/covid/ryct.2020200034.fig5-day7.jpeg', '/content/drive/My Drive/iotfuse2020/workshop/dataset/covid/nejmc2001573_f1b.jpeg', '/content/drive/My Drive/iotfuse2020/workshop/dataset/covid/1-s2.0-S0140673620303706-fx1_lrg.jpg', '/content/drive/My Drive/iotfuse2020/workshop/dataset/covid/nejmoa2001191_f3-PA.jpeg', '/content/drive/My Drive/iotfuse2020/workshop/dataset/covid/nejmoa2001191_f5-PA.jpeg', '/content/drive/My Drive/iotfuse2020/workshop/dataset/covid/ryct.2020200028.fig1a.jpeg']\n"
          ],
          "name": "stdout"
        }
      ]
    },
    {
      "cell_type": "markdown",
      "metadata": {
        "id": "KDbZq6CTqY33",
        "colab_type": "text"
      },
      "source": [
        "## **Step 5: Create your model!**\n",
        "\n",
        "1. Load pretrained VGG16 network\n",
        "2. Remove the fully connected layer but leave the convolution layers\n",
        "3. Add your own fully connected layers\n",
        "4. ***Freeze*** your convolution layers to make sure they will not be updated\n",
        "5. Setup an optimizer"
      ]
    },
    {
      "cell_type": "code",
      "metadata": {
        "id": "WCwbY0YYhQn4",
        "colab_type": "code",
        "outputId": "2548799f-d50c-4664-c0da-29a2eb25e4bd",
        "colab": {
          "base_uri": "https://localhost:8080/",
          "height": 51
        }
      },
      "source": [
        "# load the VGG16 network, ensuring the head FC layer sets are left off\n",
        "baseModel = VGG16(weights=\"imagenet\", include_top=False,\n",
        "\tinput_tensor=Input(shape=(224, 224, 3)))\n",
        "\n",
        "# construct the head of the model that will be placed on top of the the base model\n",
        "headModel = baseModel.output\n",
        "headModel = AveragePooling2D(pool_size=(4, 4))(headModel)\n",
        "headModel = Flatten(name=\"flatten\")(headModel)\n",
        "headModel = Dense(64, activation=\"relu\")(headModel)\n",
        "headModel = Dropout(0.5)(headModel)\n",
        "headModel = Dense(2, activation=\"softmax\")(headModel)\n",
        "\n",
        "# place the head FC model on top of the base model (this will become the actual model we will train)\n",
        "model = Model(inputs=baseModel.input, outputs=headModel)\n",
        "\n",
        "# loop over all layers in the base model and freeze them so they will\n",
        "# *not* be updated during the first training process\n",
        "for layer in baseModel.layers:\n",
        "\tlayer.trainable = False\n",
        "\n",
        "# compile our model\n",
        "print(\"[INFO] compiling model...\")\n",
        "opt = Adam(lr=INITIAL_LEARNING_RATE, decay=INITIAL_LEARNING_RATE / EPOCHS)\n",
        "model.compile(loss=\"binary_crossentropy\", optimizer=opt, metrics=[\"accuracy\"])\n",
        "print(\"[INFO] model compiled!\")"
      ],
      "execution_count": 0,
      "outputs": [
        {
          "output_type": "stream",
          "text": [
            "[INFO] compiling model...\n",
            "[INFO] model compiled!\n"
          ],
          "name": "stdout"
        }
      ]
    },
    {
      "cell_type": "markdown",
      "metadata": {
        "id": "JCgjo3rmqnvn",
        "colab_type": "text"
      },
      "source": [
        "## **Step 6: Train your model**\n",
        "\n",
        "1. Train the model with the above training dataset\n",
        "2. Use the testing dataset to evaluate model accuracy\n",
        "3. Plot performance\n",
        "4. Save your model locally"
      ]
    },
    {
      "cell_type": "code",
      "metadata": {
        "id": "pYS-kHIyqmat",
        "colab_type": "code",
        "outputId": "e6f2fdbe-22a2-4db3-9d4c-42f2bfdd17e1",
        "colab": {
          "base_uri": "https://localhost:8080/",
          "height": 1000
        }
      },
      "source": [
        "# train the head of the network\n",
        "print(\"[INFO] training head...\")\n",
        "H = model.fit_generator(\n",
        "\ttrainAug.flow(trainX, trainY, batch_size=BATCH_SIZE),\n",
        "\tsteps_per_epoch=len(trainX) // BATCH_SIZE,\n",
        "\tvalidation_data=(testX, testY),\n",
        "\tvalidation_steps=len(testX) // BATCH_SIZE,\n",
        "\tepochs=EPOCHS)\n",
        "\n",
        "print(\"Testing data dimensions:\")\n",
        "print(testX.shape)\n",
        "# make predictions on the testing set\n",
        "print(\"[INFO] evaluating network...\")\n",
        "predIdxs = model.predict(testX, batch_size=BATCH_SIZE)\n",
        "\n",
        "# for each image in the testing set we need to find the index of the\n",
        "# label with corresponding largest predicted probability\n",
        "predIdxs = np.argmax(predIdxs, axis=1)\n",
        "\n",
        "# show a nicely formatted classification report\n",
        "print(classification_report(testY.argmax(axis=1), predIdxs,\n",
        "\ttarget_names=lb.classes_))\n",
        "\n",
        "# compute the confusion matrix and and use it to derive the raw\n",
        "# accuracy, sensitivity, and specificity\n",
        "cm = confusion_matrix(testY.argmax(axis=1), predIdxs)\n",
        "total = sum(sum(cm))\n",
        "acc = (cm[0, 0] + cm[1, 1]) / total\n",
        "sensitivity = cm[0, 0] / (cm[0, 0] + cm[0, 1])\n",
        "specificity = cm[1, 1] / (cm[1, 0] + cm[1, 1])\n",
        "\n",
        "# show the confusion matrix, accuracy, sensitivity, and specificity\n",
        "print(cm)\n",
        "print(\"acc: {:.4f}\".format(acc))\n",
        "print(\"sensitivity: {:.4f}\".format(sensitivity))\n",
        "print(\"specificity: {:.4f}\".format(specificity))\n",
        "\n",
        "# plot the training loss and accuracy\n",
        "N = EPOCHS\n",
        "plt.style.use(\"ggplot\")\n",
        "plt.figure()\n",
        "plt.plot(np.arange(0, N), H.history[\"loss\"], label=\"train_loss\")\n",
        "plt.plot(np.arange(0, N), H.history[\"val_loss\"], label=\"val_loss\")\n",
        "plt.plot(np.arange(0, N), H.history[\"accuracy\"], label=\"train_acc\")\n",
        "plt.plot(np.arange(0, N), H.history[\"val_accuracy\"], label=\"val_acc\")\n",
        "plt.title(\"Training Loss and Accuracy on COVID-19 Dataset\")\n",
        "plt.xlabel(\"Epoch #\")\n",
        "plt.ylabel(\"Loss/Accuracy\")\n",
        "plt.legend(loc=\"lower left\")\n",
        "plt.savefig(PLOT_OUTPUT)\n",
        "\n",
        "# serialize the model to disk\n",
        "print(\"[INFO] saving COVID-19 detector model...\")\n",
        "model.save(MODEL_OUTPUT, save_format=\"h5\")"
      ],
      "execution_count": 0,
      "outputs": [
        {
          "output_type": "stream",
          "text": [
            "[INFO] training head...\n",
            "WARNING:tensorflow:From <ipython-input-10-be947b626f30>:7: Model.fit_generator (from tensorflow.python.keras.engine.training) is deprecated and will be removed in a future version.\n",
            "Instructions for updating:\n",
            "Please use Model.fit, which supports generators.\n",
            "Epoch 1/25\n",
            "5/5 [==============================] - 2s 481ms/step - loss: 0.6710 - accuracy: 0.5750 - val_loss: 0.7524 - val_accuracy: 0.5000\n",
            "Epoch 2/25\n",
            "5/5 [==============================] - 1s 143ms/step - loss: 0.9156 - accuracy: 0.4750 - val_loss: 0.7275 - val_accuracy: 0.5000\n",
            "Epoch 3/25\n",
            "5/5 [==============================] - 1s 144ms/step - loss: 0.8084 - accuracy: 0.5500 - val_loss: 0.7028 - val_accuracy: 0.5000\n",
            "Epoch 4/25\n",
            "5/5 [==============================] - 1s 146ms/step - loss: 0.6677 - accuracy: 0.5500 - val_loss: 0.6875 - val_accuracy: 0.5000\n",
            "Epoch 5/25\n",
            "5/5 [==============================] - 1s 145ms/step - loss: 0.7048 - accuracy: 0.6250 - val_loss: 0.6737 - val_accuracy: 0.5000\n",
            "Epoch 6/25\n",
            "5/5 [==============================] - 1s 145ms/step - loss: 0.6753 - accuracy: 0.5750 - val_loss: 0.6548 - val_accuracy: 0.7000\n",
            "Epoch 7/25\n",
            "5/5 [==============================] - 1s 144ms/step - loss: 0.6666 - accuracy: 0.6250 - val_loss: 0.6442 - val_accuracy: 0.7000\n",
            "Epoch 8/25\n",
            "5/5 [==============================] - 1s 144ms/step - loss: 0.6577 - accuracy: 0.6500 - val_loss: 0.6283 - val_accuracy: 0.9000\n",
            "Epoch 9/25\n",
            "5/5 [==============================] - 1s 144ms/step - loss: 0.6310 - accuracy: 0.6750 - val_loss: 0.6158 - val_accuracy: 0.8000\n",
            "Epoch 10/25\n",
            "5/5 [==============================] - 1s 144ms/step - loss: 0.6482 - accuracy: 0.6750 - val_loss: 0.6040 - val_accuracy: 0.8000\n",
            "Epoch 11/25\n",
            "5/5 [==============================] - 1s 146ms/step - loss: 0.6163 - accuracy: 0.6000 - val_loss: 0.5904 - val_accuracy: 0.8000\n",
            "Epoch 12/25\n",
            "5/5 [==============================] - 1s 145ms/step - loss: 0.5961 - accuracy: 0.6500 - val_loss: 0.5740 - val_accuracy: 0.8000\n",
            "Epoch 13/25\n",
            "5/5 [==============================] - 1s 144ms/step - loss: 0.5361 - accuracy: 0.8000 - val_loss: 0.5573 - val_accuracy: 0.8000\n",
            "Epoch 14/25\n",
            "5/5 [==============================] - 1s 146ms/step - loss: 0.5159 - accuracy: 0.7500 - val_loss: 0.5444 - val_accuracy: 0.8000\n",
            "Epoch 15/25\n",
            "5/5 [==============================] - 1s 146ms/step - loss: 0.4853 - accuracy: 0.8750 - val_loss: 0.5290 - val_accuracy: 0.7000\n",
            "Epoch 16/25\n",
            "5/5 [==============================] - 1s 144ms/step - loss: 0.4695 - accuracy: 0.7750 - val_loss: 0.5159 - val_accuracy: 0.8000\n",
            "Epoch 17/25\n",
            "5/5 [==============================] - 1s 145ms/step - loss: 0.5108 - accuracy: 0.7750 - val_loss: 0.5045 - val_accuracy: 0.8000\n",
            "Epoch 18/25\n",
            "5/5 [==============================] - 1s 142ms/step - loss: 0.4207 - accuracy: 0.8500 - val_loss: 0.4979 - val_accuracy: 0.8000\n",
            "Epoch 19/25\n",
            "5/5 [==============================] - 1s 143ms/step - loss: 0.4416 - accuracy: 0.8750 - val_loss: 0.4868 - val_accuracy: 0.9000\n",
            "Epoch 20/25\n",
            "5/5 [==============================] - 1s 146ms/step - loss: 0.3845 - accuracy: 0.9750 - val_loss: 0.4739 - val_accuracy: 0.9000\n",
            "Epoch 21/25\n",
            "5/5 [==============================] - 1s 144ms/step - loss: 0.4467 - accuracy: 0.8250 - val_loss: 0.4583 - val_accuracy: 0.9000\n",
            "Epoch 22/25\n",
            "5/5 [==============================] - 1s 144ms/step - loss: 0.3907 - accuracy: 0.9250 - val_loss: 0.4450 - val_accuracy: 0.9000\n",
            "Epoch 23/25\n",
            "5/5 [==============================] - 1s 144ms/step - loss: 0.3812 - accuracy: 0.8500 - val_loss: 0.4335 - val_accuracy: 0.8000\n",
            "Epoch 24/25\n",
            "5/5 [==============================] - 1s 144ms/step - loss: 0.4049 - accuracy: 0.9000 - val_loss: 0.4235 - val_accuracy: 0.8000\n",
            "Epoch 25/25\n",
            "5/5 [==============================] - 1s 143ms/step - loss: 0.3327 - accuracy: 0.9750 - val_loss: 0.4189 - val_accuracy: 0.9000\n",
            "Testing data dimensions:\n",
            "(10, 224, 224, 3)\n",
            "[INFO] evaluating network...\n",
            "              precision    recall  f1-score   support\n",
            "\n",
            "       covid       1.00      0.80      0.89         5\n",
            "      normal       0.83      1.00      0.91         5\n",
            "\n",
            "    accuracy                           0.90        10\n",
            "   macro avg       0.92      0.90      0.90        10\n",
            "weighted avg       0.92      0.90      0.90        10\n",
            "\n",
            "[[4 1]\n",
            " [0 5]]\n",
            "acc: 0.9000\n",
            "sensitivity: 0.8000\n",
            "specificity: 1.0000\n",
            "[INFO] saving COVID-19 detector model...\n"
          ],
          "name": "stdout"
        },
        {
          "output_type": "display_data",
          "data": {
            "image/png": "[encoded data removed]",
            "text/plain": [
              "<Figure size 432x288 with 1 Axes>"
            ]
          },
          "metadata": {
            "tags": []
          }
        }
      ]
    },
    {
      "cell_type": "markdown",
      "metadata": {
        "id": "d5kJ5wjVhOfJ",
        "colab_type": "text"
      },
      "source": [
        "## **Step 7: Deploy your model**\n",
        "\n",
        "1. Now that training is complete, we will deploy the model via our '*ML deployment service*'\n",
        "2. Add the model binary as a file and upload it via the **deployment** HTTP endpoint\n",
        "3. Response should show the **status** and the **prediction endpoint**"
      ]
    },
    {
      "cell_type": "code",
      "metadata": {
        "id": "-TY3SjO5HknO",
        "colab_type": "code",
        "outputId": "53f13cc3-e241-4804-ee16-2b29096c1871",
        "colab": {
          "base_uri": "https://localhost:8080/",
          "height": 51
        }
      },
      "source": [
        "# Deploy model so it can be accessed by our application\n",
        "\n",
        "def deploy_model(app_id):\n",
        "  url = \"https://iotfuse-ml.ngrok.io/deploy/{app_id}\".format(app_id=app_id)\n",
        "  files = {'model': open(MODEL_OUTPUT,'rb')}\n",
        "  response = requests.post(url, files=files)\n",
        "  print(response.text)\n",
        "\n",
        "deploy_model(\"mymodel\")"
      ],
      "execution_count": 22,
      "outputs": [
        {
          "output_type": "stream",
          "text": [
            "{\"endpoint\":\"https://iotfuse-ml.ngrok.io/predict/mymodel\",\"status\":\"Your model was successfully deployed!\"}\n",
            "\n"
          ],
          "name": "stdout"
        }
      ]
    }
  ]
}